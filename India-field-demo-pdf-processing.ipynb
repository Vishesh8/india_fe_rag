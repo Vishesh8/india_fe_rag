{
 "cells": [
  {
   "cell_type": "code",
   "execution_count": 0,
   "metadata": {
    "application/vnd.databricks.v1+cell": {
     "cellMetadata": {
      "byteLimit": 2048000,
      "rowLimit": 10000
     },
     "inputWidgets": {},
     "nuid": "4363a8b5-a21b-49e0-95e5-c4b7d346ce2e",
     "showTitle": false,
     "title": ""
    }
   },
   "outputs": [],
   "source": [
    "%pip install transformers==4.30.2 \"unstructured[pdf,docx]==0.10.30\" langchain==0.1.5 llama-index==0.9.3 databricks-vectorsearch==0.22 pydantic==1.10.9 mlflow==2.10.1\n",
    "dbutils.library.restartPython()"
   ]
  },
  {
   "cell_type": "code",
   "execution_count": 0,
   "metadata": {
    "application/vnd.databricks.v1+cell": {
     "cellMetadata": {
      "byteLimit": 2048000,
      "rowLimit": 10000
     },
     "inputWidgets": {},
     "nuid": "7823851c-76b8-4460-8c3d-e72a4876b7f4",
     "showTitle": false,
     "title": ""
    }
   },
   "outputs": [],
   "source": [
    "# %pip install transformers \"unstructured[pdf,docx,image,md]\" langchain llama-index  pydantic mlflow chromadb gradio langchain-openai\n",
    "# dbutils.library.restartPython()"
   ]
  },
  {
   "cell_type": "code",
   "execution_count": 0,
   "metadata": {
    "application/vnd.databricks.v1+cell": {
     "cellMetadata": {
      "byteLimit": 2048000,
      "rowLimit": 10000
     },
     "inputWidgets": {},
     "nuid": "5547d7ea-a764-43b3-b54b-f85f2b08011c",
     "showTitle": false,
     "title": ""
    }
   },
   "outputs": [],
   "source": [
    "from llama_index.langchain_helpers.text_splitter import SentenceSplitter\n",
    "from llama_index import Document, set_global_tokenizer\n",
    "from transformers import AutoTokenizer"
   ]
  },
  {
   "cell_type": "code",
   "execution_count": 0,
   "metadata": {
    "application/vnd.databricks.v1+cell": {
     "cellMetadata": {
      "byteLimit": 2048000,
      "rowLimit": 10000
     },
     "inputWidgets": {},
     "nuid": "830b5c1d-b690-40e8-a604-c2f8c0e2e395",
     "showTitle": false,
     "title": ""
    }
   },
   "outputs": [],
   "source": [
    "#install poppler on the cluster (should be done by init scripts)\n",
    "def install_ocr_on_nodes():\n",
    "    \"\"\"\n",
    "    install poppler on the cluster (should be done by init scripts)\n",
    "    \"\"\"\n",
    "    # from pyspark.sql import SparkSession\n",
    "    import subprocess\n",
    "    num_workers = max(1,int(spark.conf.get(\"spark.databricks.clusterUsageTags.clusterWorkers\")))\n",
    "    command = \"sudo rm -rf /var/cache/apt/archives/* /var/lib/apt/lists/* && sudo apt-get purge && sudo apt-get clean && sudo apt-get update && sudo apt-get install poppler-utils tesseract-ocr -y\" \n",
    "    def run_subprocess(command):\n",
    "        try:\n",
    "            output = subprocess.check_output(command, stderr=subprocess.STDOUT, shell=True)\n",
    "            return output.decode()\n",
    "        except subprocess.CalledProcessError as e:\n",
    "            raise Exception(\"An error occurred installing OCR libs:\"+ e.output.decode())\n",
    "    #install on the driver\n",
    "    run_subprocess(command)\n",
    "    def run_command(iterator):\n",
    "        for x in iterator:\n",
    "            yield run_subprocess(command)\n",
    "    # spark = SparkSession.builder.getOrCreate()\n",
    "    data = spark.sparkContext.parallelize(range(num_workers), num_workers) \n",
    "    # Use mapPartitions to run command in each partition (worker)\n",
    "    output = data.mapPartitions(run_command)\n",
    "    try:\n",
    "        output.collect();\n",
    "        print(\"OCR libraries installed\")\n",
    "    except Exception as e:\n",
    "        print(f\"Couldn't install on all node: {e}\")\n",
    "        raise e"
   ]
  },
  {
   "cell_type": "code",
   "execution_count": 0,
   "metadata": {
    "application/vnd.databricks.v1+cell": {
     "cellMetadata": {
      "byteLimit": 2048000,
      "rowLimit": 10000
     },
     "inputWidgets": {},
     "nuid": "243d4156-6f54-449f-8cfa-5b907c8c20ae",
     "showTitle": false,
     "title": ""
    }
   },
   "outputs": [],
   "source": [
    "# For production use-case, install the libraries at your cluster level with an init script instead. \n",
    "install_ocr_on_nodes()"
   ]
  },
  {
   "cell_type": "code",
   "execution_count": 0,
   "metadata": {
    "application/vnd.databricks.v1+cell": {
     "cellMetadata": {
      "byteLimit": 2048000,
      "rowLimit": 10000
     },
     "inputWidgets": {},
     "nuid": "68d19fc1-6579-4c30-b0c0-5c1ebce1828b",
     "showTitle": false,
     "title": ""
    }
   },
   "outputs": [],
   "source": []
  },
  {
   "cell_type": "markdown",
   "metadata": {
    "application/vnd.databricks.v1+cell": {
     "cellMetadata": {
      "byteLimit": 2048000,
      "rowLimit": 10000
     },
     "inputWidgets": {},
     "nuid": "50dea308-92ea-4388-8ab6-d4fe1011015f",
     "showTitle": false,
     "title": ""
    }
   },
   "source": [
    "#### Let's extract text from our PDF."
   ]
  },
  {
   "cell_type": "code",
   "execution_count": 0,
   "metadata": {
    "application/vnd.databricks.v1+cell": {
     "cellMetadata": {
      "byteLimit": 2048000,
      "rowLimit": 10000
     },
     "inputWidgets": {},
     "nuid": "2bebf32f-1b7c-450c-b8f9-11a2bc216ce8",
     "showTitle": false,
     "title": ""
    }
   },
   "outputs": [],
   "source": [
    "#pdf_loc = '/Volumes/sarbani_dbrx_catalog/india_fe_demo/pdf_volume/India_outlook_2023.pdf'\n",
    "pdf_loc = '/Volumes/sarbani_dbrx_catalog/india_fe_demo/fe_demo_pdf'"
   ]
  },
  {
   "cell_type": "code",
   "execution_count": 0,
   "metadata": {
    "application/vnd.databricks.v1+cell": {
     "cellMetadata": {
      "byteLimit": 2048000,
      "rowLimit": 10000
     },
     "inputWidgets": {},
     "nuid": "fb609762-9c62-49ca-a839-f824f025ec82",
     "showTitle": false,
     "title": ""
    }
   },
   "outputs": [],
   "source": [
    "display(dbutils.fs.ls(pdf_loc))"
   ]
  },
  {
   "cell_type": "code",
   "execution_count": 0,
   "metadata": {
    "application/vnd.databricks.v1+cell": {
     "cellMetadata": {},
     "inputWidgets": {},
     "nuid": "21962653-9d8f-4e47-99e5-4a3f6c7a2795",
     "showTitle": false,
     "title": ""
    }
   },
   "outputs": [],
   "source": []
  },
  {
   "cell_type": "code",
   "execution_count": 0,
   "metadata": {
    "application/vnd.databricks.v1+cell": {
     "cellMetadata": {
      "byteLimit": 2048000,
      "rowLimit": 10000
     },
     "inputWidgets": {},
     "nuid": "7cafdf93-807f-4f02-a530-72d75793e737",
     "showTitle": false,
     "title": ""
    }
   },
   "outputs": [],
   "source": [
    "df = (spark.readStream\n",
    "        .format('cloudFiles')\n",
    "        .option('cloudFiles.format', 'BINARYFILE')\n",
    "        .option(\"pathGlobFilter\", \"*.pdf\")\n",
    "        .load(pdf_loc))\n",
    "\n",
    "# Write the data as a Delta table\n",
    "(df.writeStream\n",
    "  .trigger(availableNow=True)\n",
    "  .option(\"checkpointLocation\", f'pdf_loc/checkpoints/raw_docs')\n",
    "  .table(\"`sarbani_dbrx_catalog`.`india_fe_demo`.`pdf_raw`\")\n",
    "  .awaitTermination())"
   ]
  },
  {
   "cell_type": "code",
   "execution_count": 0,
   "metadata": {
    "application/vnd.databricks.v1+cell": {
     "cellMetadata": {
      "byteLimit": 2048000,
      "implicitDf": true,
      "rowLimit": 10000
     },
     "inputWidgets": {},
     "nuid": "22c1d639-fc7f-4453-a6f3-ce3e9bd1221e",
     "showTitle": false,
     "title": ""
    }
   },
   "outputs": [],
   "source": [
    "%sql SELECT * FROM `sarbani_dbrx_catalog`.`india_fe_demo`.`pdf_raw` "
   ]
  },
  {
   "cell_type": "code",
   "execution_count": 0,
   "metadata": {
    "application/vnd.databricks.v1+cell": {
     "cellMetadata": {},
     "inputWidgets": {},
     "nuid": "9c457d86-4754-457e-8548-e33e05174959",
     "showTitle": false,
     "title": ""
    }
   },
   "outputs": [],
   "source": []
  },
  {
   "cell_type": "code",
   "execution_count": 0,
   "metadata": {
    "application/vnd.databricks.v1+cell": {
     "cellMetadata": {
      "byteLimit": 2048000,
      "rowLimit": 10000
     },
     "inputWidgets": {},
     "nuid": "d64627c4-294d-462b-b525-73b1d2c9f9e5",
     "showTitle": false,
     "title": ""
    }
   },
   "outputs": [],
   "source": [
    "from unstructured.partition.auto import partition\n",
    "from unstructured.documents.elements import Element\n",
    "import re\n",
    "import io\n",
    "\n",
    "def extract_doc_text(x : bytes) -> str:\n",
    "  # Read files and extract the values with unstructured\n",
    "  sections = partition(file=io.BytesIO(x))\n",
    "  def clean_section(txt):\n",
    "    txt = re.sub(r'\\n', '', txt)\n",
    "    return re.sub(r' ?\\.', '.', txt)\n",
    "  # Default split is by section of document, concatenate them all together because we want to split by sentence instead.\n",
    "  return \"\\n\".join([clean_section(s.text) for s in sections]) "
   ]
  },
  {
   "cell_type": "code",
   "execution_count": 0,
   "metadata": {
    "application/vnd.databricks.v1+cell": {
     "cellMetadata": {},
     "inputWidgets": {},
     "nuid": "9abfe3e8-a51c-4b88-9d80-98c09a3373c8",
     "showTitle": false,
     "title": ""
    }
   },
   "outputs": [],
   "source": []
  },
  {
   "cell_type": "code",
   "execution_count": 0,
   "metadata": {
    "application/vnd.databricks.v1+cell": {
     "cellMetadata": {
      "byteLimit": 2048000,
      "rowLimit": 10000
     },
     "inputWidgets": {},
     "nuid": "dcfee65f-d542-442a-a78a-2547e320aeec",
     "showTitle": false,
     "title": ""
    }
   },
   "outputs": [],
   "source": [
    "# import io\n",
    "# import re\n",
    "# with requests.get('dbfs:/Volumes/sarbani_dbrx_catalog/india_fe_demo/fe_demo_pdf/India_outlook_2023.pdf') as pdf:\n",
    "#   doc = extract_doc_text(pdf.content)  \n",
    "#   print(doc)"
   ]
  },
  {
   "cell_type": "code",
   "execution_count": 0,
   "metadata": {
    "application/vnd.databricks.v1+cell": {
     "cellMetadata": {
      "byteLimit": 2048000,
      "rowLimit": 10000
     },
     "inputWidgets": {},
     "nuid": "14cc391f-95ad-4881-a5a6-3c8d8ed3f9e0",
     "showTitle": false,
     "title": ""
    }
   },
   "outputs": [],
   "source": [
    "# with open(pdf_loc, 'rb') as f:\n",
    "#     pdf_bytes = f.read()\n",
    "# text = extract_doc_text(pdf_bytes)"
   ]
  },
  {
   "cell_type": "code",
   "execution_count": 0,
   "metadata": {
    "application/vnd.databricks.v1+cell": {
     "cellMetadata": {
      "byteLimit": 2048000,
      "rowLimit": 10000
     },
     "inputWidgets": {},
     "nuid": "bfaf0811-2e83-487b-95aa-ea6bb75c3faa",
     "showTitle": false,
     "title": ""
    }
   },
   "outputs": [],
   "source": [
    "from llama_index.langchain_helpers.text_splitter import SentenceSplitter\n",
    "from llama_index import Document, set_global_tokenizer\n",
    "from transformers import AutoTokenizer\n",
    "from pyspark.sql.functions import pandas_udf\n",
    "from typing import Iterator\n",
    "import pandas as pd\n",
    "\n",
    "# Reduce the arrow batch size as our PDF can be big in memory\n",
    "spark.conf.set(\"spark.sql.execution.arrow.maxRecordsPerBatch\", 10)\n",
    "\n",
    "@pandas_udf(\"array<string>\")\n",
    "def read_as_chunk(batch_iter: Iterator[pd.Series]) -> Iterator[pd.Series]:\n",
    "    #set llama2 as tokenizer to match our model size (will stay below BGE 1024 limit)\n",
    "    set_global_tokenizer(\n",
    "      AutoTokenizer.from_pretrained(\"hf-internal-testing/llama-tokenizer\")\n",
    "    )\n",
    "    #Sentence splitter from llama_index to split on sentences\n",
    "    splitter = SentenceSplitter(chunk_size=500, chunk_overlap=50)\n",
    "    def extract_and_split(b):\n",
    "      txt = extract_doc_text(b)\n",
    "      nodes = splitter.get_nodes_from_documents([Document(text=txt)])\n",
    "      return [n.text for n in nodes]\n",
    "\n",
    "    for x in batch_iter:\n",
    "        yield x.apply(extract_and_split)"
   ]
  },
  {
   "cell_type": "code",
   "execution_count": 0,
   "metadata": {
    "application/vnd.databricks.v1+cell": {
     "cellMetadata": {
      "byteLimit": 2048000,
      "rowLimit": 10000
     },
     "inputWidgets": {},
     "nuid": "5d4dbc34-7677-4769-9cd4-09bbf7af71c9",
     "showTitle": false,
     "title": ""
    }
   },
   "outputs": [],
   "source": [
    "from mlflow.deployments import get_deploy_client\n",
    "\n",
    "# bge-large-en Foundation models are available using the /serving-endpoints/databricks-bge-large-en/invocations api. \n",
    "deploy_client = get_deploy_client(\"databricks\")\n",
    "\n",
    "## NOTE: if you change your embedding model here, make sure you change it in the query step too\n",
    "embeddings = deploy_client.predict(endpoint=\"databricks-bge-large-en\", inputs={\"input\": [\"What is Apache Spark?\"]})\n",
    "#print(embeddings)"
   ]
  },
  {
   "cell_type": "code",
   "execution_count": 0,
   "metadata": {
    "application/vnd.databricks.v1+cell": {
     "cellMetadata": {
      "byteLimit": 2048000,
      "implicitDf": true,
      "rowLimit": 10000
     },
     "inputWidgets": {},
     "nuid": "26cd9c61-ac2e-404a-bbc8-2415da68a0f2",
     "showTitle": false,
     "title": ""
    }
   },
   "outputs": [],
   "source": [
    "%sql\n",
    "--Note that we need to enable Change Data Feed on the table to create the index\n",
    "CREATE TABLE IF NOT EXISTS `sarbani_dbrx_catalog`.`india_fe_demo`.`pdf_demo_tbl` (\n",
    "  id BIGINT GENERATED BY DEFAULT AS IDENTITY,\n",
    "  url STRING,\n",
    "  content STRING,\n",
    "  embedding ARRAY <FLOAT>\n",
    ") TBLPROPERTIES (delta.enableChangeDataFeed = true); "
   ]
  },
  {
   "cell_type": "code",
   "execution_count": 0,
   "metadata": {
    "application/vnd.databricks.v1+cell": {
     "cellMetadata": {
      "byteLimit": 2048000,
      "rowLimit": 10000
     },
     "inputWidgets": {},
     "nuid": "3533548b-32a4-439a-955a-4929cd837ee9",
     "showTitle": false,
     "title": ""
    }
   },
   "outputs": [],
   "source": [
    "@pandas_udf(\"array<float>\")\n",
    "def get_embedding(contents: pd.Series) -> pd.Series:\n",
    "    import mlflow.deployments\n",
    "    deploy_client = mlflow.deployments.get_deploy_client(\"databricks\")\n",
    "    def get_embeddings(batch):\n",
    "        #Note: this will fail if an exception is thrown during embedding creation (add try/except if needed) \n",
    "        response = deploy_client.predict(endpoint=\"databricks-bge-large-en\", inputs={\"input\": batch})\n",
    "        return [e['embedding'] for e in response.data]\n",
    "\n",
    "    # Splitting the contents into batches of 150 items each, since the embedding model takes at most 150 inputs per request.\n",
    "    max_batch_size = 150\n",
    "    batches = [contents.iloc[i:i + max_batch_size] for i in range(0, len(contents), max_batch_size)]\n",
    "\n",
    "    # Process each batch and collect the results\n",
    "    all_embeddings = []\n",
    "    for batch in batches:\n",
    "        all_embeddings += get_embeddings(batch.tolist())\n",
    "\n",
    "    return pd.Series(all_embeddings)"
   ]
  },
  {
   "cell_type": "code",
   "execution_count": 0,
   "metadata": {
    "application/vnd.databricks.v1+cell": {
     "cellMetadata": {
      "byteLimit": 2048000,
      "rowLimit": 10000
     },
     "inputWidgets": {},
     "nuid": "3bc03ab1-b613-42c2-9599-a19a5b4ac8e7",
     "showTitle": false,
     "title": ""
    }
   },
   "outputs": [],
   "source": [
    "from pyspark.sql import functions as F\n",
    "\n",
    "(spark.readStream.table(\"`sarbani_dbrx_catalog`.`india_fe_demo`.`pdf_raw`\")\n",
    "      .withColumn(\"content\", F.explode(read_as_chunk(\"content\")))\n",
    "      .withColumn(\"embedding\", get_embedding(\"content\"))\n",
    "      .selectExpr('path as url', 'content', 'embedding')\n",
    "  .writeStream\n",
    "    .trigger(availableNow=True)\n",
    "    .option(\"checkpointLocation\", f'pdf_loc/checkpoints/pdf_chunk2')\n",
    "    .table(\"`sarbani_dbrx_catalog`.`india_fe_demo`.`pdf_demo_tbl`\").awaitTermination())\n"
   ]
  },
  {
   "cell_type": "code",
   "execution_count": 0,
   "metadata": {
    "application/vnd.databricks.v1+cell": {
     "cellMetadata": {
      "byteLimit": 2048000,
      "implicitDf": true,
      "rowLimit": 10000
     },
     "inputWidgets": {},
     "nuid": "5d743ff4-fb67-434d-88a8-3cd350ab3825",
     "showTitle": false,
     "title": ""
    }
   },
   "outputs": [],
   "source": [
    "%sql\n",
    "SELECT * FROM `sarbani_dbrx_catalog`.`india_fe_demo`.`pdf_demo_tbl`"
   ]
  },
  {
   "cell_type": "markdown",
   "metadata": {
    "application/vnd.databricks.v1+cell": {
     "cellMetadata": {},
     "inputWidgets": {},
     "nuid": "1d200f05-db68-4d3c-bd11-c8a125391a16",
     "showTitle": false,
     "title": ""
    }
   },
   "source": []
  },
  {
   "cell_type": "code",
   "execution_count": 0,
   "metadata": {
    "application/vnd.databricks.v1+cell": {
     "cellMetadata": {},
     "inputWidgets": {},
     "nuid": "9f592dfe-0a8e-4fea-b4e3-ff75538f25e2",
     "showTitle": true,
     "title": ""
    }
   },
   "outputs": [],
   "source": []
  },
  {
   "cell_type": "code",
   "execution_count": 0,
   "metadata": {
    "application/vnd.databricks.v1+cell": {
     "cellMetadata": {
      "byteLimit": 2048000,
      "rowLimit": 10000
     },
     "inputWidgets": {},
     "nuid": "7a2bab0b-a69d-4ad2-a08e-aad920e66e5f",
     "showTitle": false,
     "title": ""
    }
   },
   "outputs": [],
   "source": [
    "# from unstructured.partition.pdf import partition_pdf\n",
    "\n",
    "# # Returns a List[Element] present in the pages of the parsed pdf document\n",
    "# elements = partition_pdf(pdf_loc, strategy=\"hi_res\")"
   ]
  },
  {
   "cell_type": "code",
   "execution_count": 0,
   "metadata": {
    "application/vnd.databricks.v1+cell": {
     "cellMetadata": {},
     "inputWidgets": {},
     "nuid": "25a3e147-cb89-4258-b7ae-710067914e31",
     "showTitle": false,
     "title": ""
    }
   },
   "outputs": [],
   "source": []
  },
  {
   "cell_type": "code",
   "execution_count": 0,
   "metadata": {
    "application/vnd.databricks.v1+cell": {
     "cellMetadata": {
      "byteLimit": 2048000,
      "rowLimit": 10000
     },
     "inputWidgets": {},
     "nuid": "46384396-a455-48ec-a513-c2b91e38532c",
     "showTitle": false,
     "title": ""
    }
   },
   "outputs": [],
   "source": [
    "# cnt=0\n",
    "# for element in elements:\n",
    "#   print(\"#########count######### :\",cnt)\n",
    "#   print(element.metadata.fields)\n",
    "  \n",
    "#   cnt = cnt+1\n",
    "# # print(\"count :\",cnt)\n",
    "# # print(elements[100])\n",
    "  "
   ]
  },
  {
   "cell_type": "code",
   "execution_count": 0,
   "metadata": {
    "application/vnd.databricks.v1+cell": {
     "cellMetadata": {
      "byteLimit": 2048000,
      "rowLimit": 10000
     },
     "inputWidgets": {},
     "nuid": "57f3e258-d88a-48a9-929a-b1f10657a7c4",
     "showTitle": false,
     "title": ""
    }
   },
   "outputs": [],
   "source": [
    "# elements[1060].metadata.fields"
   ]
  },
  {
   "cell_type": "code",
   "execution_count": 0,
   "metadata": {
    "application/vnd.databricks.v1+cell": {
     "cellMetadata": {
      "byteLimit": 2048000,
      "rowLimit": 10000
     },
     "inputWidgets": {},
     "nuid": "73109894-ccda-441b-b1b8-4ba32bb00e67",
     "showTitle": false,
     "title": ""
    }
   },
   "outputs": [],
   "source": [
    "# for x in range(960, 978):\n",
    "#   #print(\"#########count#########\")\n",
    "#   print(elements[x].text)\n",
    "#   print(elements[x].metadata.page_number)"
   ]
  },
  {
   "cell_type": "code",
   "execution_count": 0,
   "metadata": {
    "application/vnd.databricks.v1+cell": {
     "cellMetadata": {
      "byteLimit": 2048000,
      "rowLimit": 10000
     },
     "inputWidgets": {},
     "nuid": "74102349-3119-464d-9892-f2bfc1abdfd2",
     "showTitle": false,
     "title": ""
    }
   },
   "outputs": [],
   "source": [
    "# elements[3000].metadata.fields"
   ]
  },
  {
   "cell_type": "code",
   "execution_count": 0,
   "metadata": {
    "application/vnd.databricks.v1+cell": {
     "cellMetadata": {
      "byteLimit": 2048000,
      "rowLimit": 10000
     },
     "inputWidgets": {},
     "nuid": "dcc360c6-0c38-40f5-b20e-fa1bf08fc9c9",
     "showTitle": false,
     "title": ""
    }
   },
   "outputs": [],
   "source": [
    "# elements[3000].text"
   ]
  },
  {
   "cell_type": "code",
   "execution_count": 0,
   "metadata": {
    "application/vnd.databricks.v1+cell": {
     "cellMetadata": {
      "byteLimit": 2048000,
      "rowLimit": 10000
     },
     "inputWidgets": {},
     "nuid": "66ae5a75-5d79-4cc9-a348-1f8d9e5139c0",
     "showTitle": false,
     "title": ""
    }
   },
   "outputs": [],
   "source": [
    "# from collections import Counter\n",
    "# display(Counter(type(element) for element in elements))\n",
    "# print(\"\")"
   ]
  },
  {
   "cell_type": "markdown",
   "metadata": {
    "application/vnd.databricks.v1+cell": {
     "cellMetadata": {
      "byteLimit": 2048000,
      "rowLimit": 10000
     },
     "inputWidgets": {},
     "nuid": "102d96c5-9398-47d6-822d-64b6f3032784",
     "showTitle": false,
     "title": ""
    }
   },
   "source": [
    "### Image"
   ]
  },
  {
   "cell_type": "code",
   "execution_count": 0,
   "metadata": {
    "application/vnd.databricks.v1+cell": {
     "cellMetadata": {
      "byteLimit": 2048000,
      "rowLimit": 10000
     },
     "inputWidgets": {},
     "nuid": "86d47f08-1373-4d4e-bde6-6bc8ddced1b5",
     "showTitle": false,
     "title": ""
    }
   },
   "outputs": [],
   "source": [
    "# image_loc = \"/Volumes/sarbani_dbrx_catalog/india_fe_demo/pdf_volume/screen-4.png\""
   ]
  },
  {
   "cell_type": "code",
   "execution_count": 0,
   "metadata": {
    "application/vnd.databricks.v1+cell": {
     "cellMetadata": {
      "byteLimit": 2048000,
      "rowLimit": 10000
     },
     "inputWidgets": {},
     "nuid": "b8318568-2f75-4c1b-b637-3dcff8027fd5",
     "showTitle": false,
     "title": ""
    }
   },
   "outputs": [],
   "source": [
    "# from unstructured.partition.image import partition_image\n",
    "\n",
    "# # Returns a List[Element] present in the pages of the parsed pdf document\n",
    "# elements = partition_image(\"/Volumes/sarbani_dbrx_catalog/india_fe_demo/pdf_volume/screen-4.png\")\n"
   ]
  },
  {
   "cell_type": "code",
   "execution_count": 0,
   "metadata": {
    "application/vnd.databricks.v1+cell": {
     "cellMetadata": {
      "byteLimit": 2048000,
      "rowLimit": 10000
     },
     "inputWidgets": {},
     "nuid": "88c5dfa7-715b-4a1e-813b-765acdeaeb5f",
     "showTitle": false,
     "title": ""
    }
   },
   "outputs": [],
   "source": [
    "# cnt=0\n",
    "# for element in elements:\n",
    "#   print(\"#########count######### :\",cnt)\n",
    "#   print(element.text)\n",
    "#   cnt = cnt+1\n",
    "# # print(\"count :\",cnt)\n",
    "# # print(elements[100])\n",
    "  "
   ]
  },
  {
   "cell_type": "markdown",
   "metadata": {
    "application/vnd.databricks.v1+cell": {
     "cellMetadata": {
      "byteLimit": 2048000,
      "rowLimit": 10000
     },
     "inputWidgets": {},
     "nuid": "2c15cf29-a149-412b-91c3-ad72b4a523f5",
     "showTitle": false,
     "title": ""
    }
   },
   "source": [
    "images look better in terms of extraction..lets try to convert pdf to images and then create embeddings using clip"
   ]
  },
  {
   "cell_type": "code",
   "execution_count": 0,
   "metadata": {
    "application/vnd.databricks.v1+cell": {
     "cellMetadata": {
      "byteLimit": 2048000,
      "rowLimit": 10000
     },
     "inputWidgets": {},
     "nuid": "a150c286-8028-4a2f-a459-a752837302e7",
     "showTitle": false,
     "title": ""
    }
   },
   "outputs": [],
   "source": []
  },
  {
   "cell_type": "markdown",
   "metadata": {
    "application/vnd.databricks.v1+cell": {
     "cellMetadata": {
      "byteLimit": 2048000,
      "rowLimit": 10000
     },
     "inputWidgets": {},
     "nuid": "84fffed1-1b7f-4a96-926f-a29c8cf8494f",
     "showTitle": false,
     "title": ""
    }
   },
   "source": [
    "### Convert the pdf to images"
   ]
  },
  {
   "cell_type": "code",
   "execution_count": 0,
   "metadata": {
    "application/vnd.databricks.v1+cell": {
     "cellMetadata": {
      "byteLimit": 2048000,
      "rowLimit": 10000
     },
     "inputWidgets": {},
     "nuid": "b6ba9312-e0db-498d-810f-5e20f346dc03",
     "showTitle": false,
     "title": ""
    }
   },
   "outputs": [],
   "source": [
    "# from pdf2image import convert_from_path\n",
    "\n",
    "# pdf_images = convert_from_path(pdf_loc)\n",
    "\n"
   ]
  },
  {
   "cell_type": "markdown",
   "metadata": {
    "application/vnd.databricks.v1+cell": {
     "cellMetadata": {
      "byteLimit": 2048000,
      "rowLimit": 10000
     },
     "inputWidgets": {},
     "nuid": "fa971732-a888-407a-8cfd-9d8a48075697",
     "showTitle": false,
     "title": ""
    }
   },
   "source": [
    "#### store the images in volume"
   ]
  },
  {
   "cell_type": "code",
   "execution_count": 0,
   "metadata": {
    "application/vnd.databricks.v1+cell": {
     "cellMetadata": {
      "byteLimit": 2048000,
      "rowLimit": 10000
     },
     "inputWidgets": {},
     "nuid": "9debfb5c-3ce9-4412-8d7a-252a48e7a787",
     "showTitle": false,
     "title": ""
    }
   },
   "outputs": [],
   "source": [
    "# pdfname_pgno_imgloc = {}\n",
    "# for idx in range(len(pdf_images)):\n",
    "#     img_save_path = '/Volumes/sarbani_dbrx_catalog/india_fe_demo/pdf_volume/' + 'pdf_page_'+ str(idx+1) +'.png'\n",
    "    \n",
    "   \n",
    "#     pdf_images[idx].save('/Volumes/sarbani_dbrx_catalog/india_fe_demo/pdf_volume/' + 'pdf_page_'+ str(idx+1) +'.png', 'PNG')\n",
    "# print(\"Successfully converted PDF to images\")"
   ]
  },
  {
   "cell_type": "code",
   "execution_count": 0,
   "metadata": {
    "application/vnd.databricks.v1+cell": {
     "cellMetadata": {
      "byteLimit": 2048000,
      "rowLimit": 10000
     },
     "inputWidgets": {},
     "nuid": "46912463-b3b6-4925-9ff8-a41381d3ba2f",
     "showTitle": false,
     "title": ""
    }
   },
   "outputs": [],
   "source": [
    "# pdfname_pgno_imgloc = {}\n",
    "# for idx in range(len(pdf_images)):\n",
    "#     img_save_path = '/Volumes/sarbani_dbrx_catalog/india_fe_demo/pdf_volume/' + 'pdf_page_'+ str(idx+1) +'.png'\n",
    "#     pdfname_pgno_imgloc[idx+1] = img_save_path\n",
    "#     pdf_images[idx].save(img_save_path, 'PNG')"
   ]
  },
  {
   "cell_type": "code",
   "execution_count": 0,
   "metadata": {
    "application/vnd.databricks.v1+cell": {
     "cellMetadata": {
      "byteLimit": 2048000,
      "rowLimit": 10000
     },
     "inputWidgets": {},
     "nuid": "78e5e95f-fe67-4e4e-bd68-68366cba7b02",
     "showTitle": false,
     "title": ""
    }
   },
   "outputs": [],
   "source": [
    "# import pandas as pd\n",
    "\n",
    "# # Convert the dictionary to a list of tuples\n",
    "# pdfname_pgno_imgloc_list = list(pdfname_pgno_imgloc.items())\n",
    "\n",
    "# # Create the DataFrame with the appropriate columns\n",
    "# df_pdf_page_img = pd.DataFrame(pdfname_pgno_imgloc_list, columns=['pdf_page', 'page_image_loc'])\n",
    "# df_pdf_page_img"
   ]
  },
  {
   "cell_type": "code",
   "execution_count": 0,
   "metadata": {
    "application/vnd.databricks.v1+cell": {
     "cellMetadata": {
      "byteLimit": 2048000,
      "rowLimit": 10000
     },
     "inputWidgets": {},
     "nuid": "98d6258b-23f2-4115-a95b-9dbc1b133eaa",
     "showTitle": false,
     "title": ""
    }
   },
   "outputs": [],
   "source": [
    "# import pyspark.pandas as ps\n",
    "# df_pdf_page_img_ps = ps.from_pandas(df_pdf_page_img)\n",
    "# df_pdf_page_img_ps"
   ]
  },
  {
   "cell_type": "code",
   "execution_count": 0,
   "metadata": {
    "application/vnd.databricks.v1+cell": {
     "cellMetadata": {
      "byteLimit": 2048000,
      "rowLimit": 10000
     },
     "inputWidgets": {},
     "nuid": "2009ca99-da71-4e85-942e-bf20a729f13d",
     "showTitle": false,
     "title": ""
    }
   },
   "outputs": [],
   "source": [
    "# from unstructured.partition.image import partition_image\n",
    "\n",
    "# filename = \"/Volumes/sarbani_dbrx_catalog/india_fe_demo/pdf_volume/pdf_page_18.png\"\n",
    "# elements = partition_image(filename=filename)"
   ]
  },
  {
   "cell_type": "code",
   "execution_count": 0,
   "metadata": {
    "application/vnd.databricks.v1+cell": {
     "cellMetadata": {
      "byteLimit": 2048000,
      "rowLimit": 10000
     },
     "inputWidgets": {},
     "nuid": "895d7776-af56-4298-b1ee-027a6fdcfbc2",
     "showTitle": false,
     "title": ""
    }
   },
   "outputs": [],
   "source": [
    "# cnt=0\n",
    "# for element in elements:\n",
    "#   print(\"#########count######### :\",cnt)\n",
    "#   print(element)\n",
    "#   cnt = cnt+1"
   ]
  },
  {
   "cell_type": "code",
   "execution_count": 0,
   "metadata": {
    "application/vnd.databricks.v1+cell": {
     "cellMetadata": {
      "byteLimit": 2048000,
      "rowLimit": 10000
     },
     "inputWidgets": {},
     "nuid": "ba20331b-7be5-471f-ad44-444fe6e6da0a",
     "showTitle": false,
     "title": ""
    }
   },
   "outputs": [],
   "source": [
    "# from unstructured.partition.image import partition_image\n",
    "\n",
    "# # Returns a List[Element] present in the pages of the parsed pdf document\n",
    "# elements = partition_image(\"/Volumes/sarbani_dbrx_catalog/india_fe_demo/pdf_volume/screen-4.png\")"
   ]
  },
  {
   "cell_type": "code",
   "execution_count": 0,
   "metadata": {
    "application/vnd.databricks.v1+cell": {
     "cellMetadata": {
      "byteLimit": 2048000,
      "rowLimit": 10000
     },
     "inputWidgets": {},
     "nuid": "a786591b-6182-408d-a98a-8c7b863250bf",
     "showTitle": false,
     "title": ""
    }
   },
   "outputs": [],
   "source": [
    "# # Replace the import statement with the following one\n",
    "# import pyspark.pandas as ps\n",
    "\n",
    "# # Convert column to list\n",
    "# page_image_loc_list = df_pdf_page_img_ps['page_image_loc'].tolist()\n",
    "\n",
    "# # Apply partition_image function and assign the result back to the DataFrame column\n",
    "# df_pdf_page_img_ps['text_extract'] = [partition_image(loc) for loc in page_image_loc_list]"
   ]
  },
  {
   "cell_type": "code",
   "execution_count": 0,
   "metadata": {
    "application/vnd.databricks.v1+cell": {
     "cellMetadata": {},
     "inputWidgets": {},
     "nuid": "1e384f67-7ab5-469c-bb3b-f136df48d323",
     "showTitle": false,
     "title": ""
    }
   },
   "outputs": [],
   "source": []
  },
  {
   "cell_type": "code",
   "execution_count": 0,
   "metadata": {
    "application/vnd.databricks.v1+cell": {
     "cellMetadata": {},
     "inputWidgets": {},
     "nuid": "72ecf4e6-62d2-41d2-996c-ae0aa4480271",
     "showTitle": false,
     "title": ""
    }
   },
   "outputs": [],
   "source": []
  },
  {
   "cell_type": "code",
   "execution_count": 0,
   "metadata": {
    "application/vnd.databricks.v1+cell": {
     "cellMetadata": {},
     "inputWidgets": {},
     "nuid": "ad7e98f7-174e-4aa7-867b-eef59a9c4aad",
     "showTitle": false,
     "title": ""
    }
   },
   "outputs": [],
   "source": []
  },
  {
   "cell_type": "markdown",
   "metadata": {
    "application/vnd.databricks.v1+cell": {
     "cellMetadata": {},
     "inputWidgets": {},
     "nuid": "cee4c1f6-07ae-495f-8b6e-0348bc1cb8cd",
     "showTitle": false,
     "title": ""
    }
   },
   "source": [
    "### Extract text from images now"
   ]
  },
  {
   "cell_type": "code",
   "execution_count": 0,
   "metadata": {
    "application/vnd.databricks.v1+cell": {
     "cellMetadata": {},
     "inputWidgets": {},
     "nuid": "8ac80247-9be5-4fcd-ab98-f1145f3e96b9",
     "showTitle": false,
     "title": ""
    }
   },
   "outputs": [],
   "source": [
    "# cnt=0\n",
    "# for element in elements:\n",
    "#   print(\"#########count######### :\",cnt)\n",
    "#   print(element.text)\n",
    "#   cnt = cnt+1\n",
    "# # print(\"count :\",cnt)\n",
    "# # print(elements[100])\n",
    "  "
   ]
  },
  {
   "cell_type": "code",
   "execution_count": 0,
   "metadata": {
    "application/vnd.databricks.v1+cell": {
     "cellMetadata": {
      "byteLimit": 2048000,
      "rowLimit": 10000
     },
     "inputWidgets": {},
     "nuid": "bf6bc772-0e3f-4875-a555-ca2765db00e4",
     "showTitle": false,
     "title": ""
    }
   },
   "outputs": [],
   "source": [
    "# from langchain_community.document_loaders import PyPDFLoader\n",
    "# from langchain_text_splitters import CharacterTextSplitter, RecursiveCharacterTextSplitter\n",
    "\n",
    "# from langchain_community.embeddings.sentence_transformer import (\n",
    "#   SentenceTransformerEmbeddings, HuggingFaceEmbeddings\n",
    "# )\n",
    "# from langchain_community.vectorstores import Chroma"
   ]
  },
  {
   "cell_type": "code",
   "execution_count": 0,
   "metadata": {
    "application/vnd.databricks.v1+cell": {
     "cellMetadata": {
      "byteLimit": 2048000,
      "rowLimit": 10000
     },
     "inputWidgets": {},
     "nuid": "75e6f621-f71e-4234-a493-98f86eddbc34",
     "showTitle": false,
     "title": ""
    }
   },
   "outputs": [],
   "source": []
  },
  {
   "cell_type": "code",
   "execution_count": 0,
   "metadata": {
    "application/vnd.databricks.v1+cell": {
     "cellMetadata": {
      "byteLimit": 2048000,
      "rowLimit": 10000
     },
     "inputWidgets": {},
     "nuid": "e2228219-bffd-45bc-89b0-8d522c405962",
     "showTitle": false,
     "title": ""
    }
   },
   "outputs": [],
   "source": []
  },
  {
   "cell_type": "markdown",
   "metadata": {
    "application/vnd.databricks.v1+cell": {
     "cellMetadata": {
      "byteLimit": 2048000,
      "rowLimit": 10000
     },
     "inputWidgets": {},
     "nuid": "8f540198-4c92-41eb-9126-0b2680fe83ed",
     "showTitle": false,
     "title": ""
    }
   },
   "source": [
    "#### Create Index Part"
   ]
  },
  {
   "cell_type": "code",
   "execution_count": 0,
   "metadata": {
    "application/vnd.databricks.v1+cell": {
     "cellMetadata": {
      "byteLimit": 2048000,
      "rowLimit": 10000
     },
     "inputWidgets": {},
     "nuid": "abc2c8a7-9b05-46c5-8366-d91553a06dc5",
     "showTitle": false,
     "title": ""
    }
   },
   "outputs": [],
   "source": [
    "# loader = PyPDFLoader(pdf_loc)\n",
    "# pages = loader.load_and_split(text_splitter=RecursiveCharacterTextSplitter(chunk_size=1000, chunk_overlap=200))\n",
    "# len(pages)"
   ]
  },
  {
   "cell_type": "code",
   "execution_count": 0,
   "metadata": {
    "application/vnd.databricks.v1+cell": {
     "cellMetadata": {
      "byteLimit": 2048000,
      "rowLimit": 10000
     },
     "inputWidgets": {},
     "nuid": "472588a7-3f19-4b8d-be3d-c6e2d3ac3d4b",
     "showTitle": false,
     "title": ""
    }
   },
   "outputs": [],
   "source": [
    "# vector_db_path='/Users/sriharsha.jana@databricks.com/demo_pdf_vecdb'\n",
    "embedding_function = SentenceTransformerEmbeddings(model_name=\"all-MiniLM-L6-v2\")\n",
    "db = Chroma.from_documents(pages, embedding_function)"
   ]
  },
  {
   "cell_type": "markdown",
   "metadata": {
    "application/vnd.databricks.v1+cell": {
     "cellMetadata": {
      "byteLimit": 2048000,
      "rowLimit": 10000
     },
     "inputWidgets": {},
     "nuid": "4eeb7589-5b88-4173-b468-6b3ecb1e72c5",
     "showTitle": false,
     "title": ""
    }
   },
   "source": [
    "#### Read part"
   ]
  },
  {
   "cell_type": "code",
   "execution_count": 0,
   "metadata": {
    "application/vnd.databricks.v1+cell": {
     "cellMetadata": {
      "byteLimit": 2048000,
      "rowLimit": 10000
     },
     "inputWidgets": {},
     "nuid": "e2e57678-7899-4f46-a4ff-ef84dc5fde6c",
     "showTitle": false,
     "title": ""
    }
   },
   "outputs": [],
   "source": [
    "# retriever = db.as_retriever(search_kwargs={\"k\": 2})\n",
    "# docs = retriever.get_relevant_documents(\"what does zero optimizer provide advantage over other techniques?\")\n",
    "# len(docs)"
   ]
  },
  {
   "cell_type": "code",
   "execution_count": 0,
   "metadata": {
    "application/vnd.databricks.v1+cell": {
     "cellMetadata": {
      "byteLimit": 2048000,
      "rowLimit": 10000
     },
     "inputWidgets": {},
     "nuid": "509201a0-956f-4905-a706-ee57811fb705",
     "showTitle": false,
     "title": ""
    }
   },
   "outputs": [],
   "source": [
    "# print(docs[0])"
   ]
  },
  {
   "cell_type": "markdown",
   "metadata": {
    "application/vnd.databricks.v1+cell": {
     "cellMetadata": {
      "byteLimit": 2048000,
      "rowLimit": 10000
     },
     "inputWidgets": {},
     "nuid": "0818d5bf-b0d5-4b54-8fb1-421e16c3df23",
     "showTitle": false,
     "title": ""
    }
   },
   "source": [
    "#### Generate Humanlike/Chat/any task using DBRX"
   ]
  },
  {
   "cell_type": "code",
   "execution_count": 0,
   "metadata": {
    "application/vnd.databricks.v1+cell": {
     "cellMetadata": {
      "byteLimit": 2048000,
      "rowLimit": 10000
     },
     "inputWidgets": {},
     "nuid": "9bb82a29-09a1-4653-bf97-e4bb58f58abe",
     "showTitle": false,
     "title": ""
    }
   },
   "outputs": [],
   "source": [
    "# from langchain.chat_models import ChatDatabricks\n",
    "\n",
    "# chat_model = ChatDatabricks(endpoint=\"databricks-mixtral-8x7b-instruct\", max_tokens=256)\n",
    "# print(chat_model.invoke('What is Apache Spark'))"
   ]
  },
  {
   "cell_type": "code",
   "execution_count": 0,
   "metadata": {
    "application/vnd.databricks.v1+cell": {
     "cellMetadata": {
      "byteLimit": 2048000,
      "rowLimit": 10000
     },
     "inputWidgets": {},
     "nuid": "0d73fde6-b186-4002-a2e8-06cd16a0e622",
     "showTitle": false,
     "title": ""
    }
   },
   "outputs": [],
   "source": [
    "# Test Databricks Foundation LLM model\n",
    "#from langchain_community.chat_models import ChatDatabricks\n",
    "\n",
    "import langchain_community\n",
    "from langchain_community.chat_models import ChatDatabricks\n",
    "\n",
    "dbrx_chat_model = ChatDatabricks(endpoint=\"databricks-dbrx-instruct\", max_tokens = 200)\n",
    "print(f\"Test chat model: {dbrx_chat_model.predict('What is mixture oif expert in LLM')}\")"
   ]
  },
  {
   "cell_type": "markdown",
   "metadata": {
    "application/vnd.databricks.v1+cell": {
     "cellMetadata": {
      "byteLimit": 2048000,
      "rowLimit": 10000
     },
     "inputWidgets": {},
     "nuid": "59737b7c-3d81-40f4-af28-a6c07e163cf7",
     "showTitle": false,
     "title": ""
    }
   },
   "source": [
    "#### Create a QA Chain from Langchains"
   ]
  },
  {
   "cell_type": "markdown",
   "metadata": {
    "application/vnd.databricks.v1+cell": {
     "cellMetadata": {},
     "inputWidgets": {},
     "nuid": "da292fd1-a662-4889-990f-4630e5bebbc9",
     "showTitle": false,
     "title": ""
    }
   },
   "source": [
    "https://nakamasato.medium.com/enhancing-langchains-retrievalqa-for-real-source-links-53713c7d802a"
   ]
  },
  {
   "cell_type": "code",
   "execution_count": 0,
   "metadata": {
    "application/vnd.databricks.v1+cell": {
     "cellMetadata": {
      "byteLimit": 2048000,
      "rowLimit": 10000
     },
     "inputWidgets": {},
     "nuid": "1fa6adc3-d03c-4964-aef3-c69707173a14",
     "showTitle": false,
     "title": ""
    }
   },
   "outputs": [],
   "source": [
    "from langchain.chains import RetrievalQA\n",
    "\n",
    "qa_chain = RetrievalQA.from_chain_type(llm=dbrx_chat_model, \n",
    "                                  chain_type=\"stuff\", \n",
    "                                  retriever=retriever, \n",
    "                                  return_source_documents=True)"
   ]
  },
  {
   "cell_type": "code",
   "execution_count": 0,
   "metadata": {
    "application/vnd.databricks.v1+cell": {
     "cellMetadata": {
      "byteLimit": 2048000,
      "rowLimit": 10000
     },
     "inputWidgets": {},
     "nuid": "0dc49fa4-24d4-4e6a-8182-3dd37f7bd007",
     "showTitle": false,
     "title": ""
    }
   },
   "outputs": [],
   "source": [
    "query = \"\"\"What is data lake?\"\"\"\n",
    "llm_response = qa_chain(query)"
   ]
  },
  {
   "cell_type": "code",
   "execution_count": 0,
   "metadata": {
    "application/vnd.databricks.v1+cell": {
     "cellMetadata": {
      "byteLimit": 2048000,
      "rowLimit": 10000
     },
     "inputWidgets": {},
     "nuid": "8e6ffaac-7e57-4de7-a7c1-9871ef1dd4a9",
     "showTitle": false,
     "title": ""
    }
   },
   "outputs": [],
   "source": [
    "llm_response['result']"
   ]
  },
  {
   "cell_type": "code",
   "execution_count": 0,
   "metadata": {
    "application/vnd.databricks.v1+cell": {
     "cellMetadata": {
      "byteLimit": 2048000,
      "rowLimit": 10000
     },
     "inputWidgets": {},
     "nuid": "9ed527ca-0ec6-4045-bbd0-8e30c74b230b",
     "showTitle": false,
     "title": ""
    }
   },
   "outputs": [],
   "source": [
    "doc_pages = 'Document Page Numbers ='+','.join(set([str(doc.metadata['page']) for doc in llm_response['source_documents']]))\n",
    "doc_name = \"Document =\"+','.join(set([str(doc.metadata['source']) for doc in llm_response['source_documents']]))\n",
    "doc_content = \"Document Details =\"+'.\\n'.join(set([str(doc.page_content) for doc in llm_response['source_documents']]))"
   ]
  },
  {
   "cell_type": "code",
   "execution_count": 0,
   "metadata": {
    "application/vnd.databricks.v1+cell": {
     "cellMetadata": {
      "byteLimit": 2048000,
      "rowLimit": 10000
     },
     "inputWidgets": {},
     "nuid": "a65fdc3c-b930-4d07-9c13-cf8ad99f5c8b",
     "showTitle": false,
     "title": ""
    }
   },
   "outputs": [],
   "source": [
    "doc_pages"
   ]
  },
  {
   "cell_type": "code",
   "execution_count": 0,
   "metadata": {
    "application/vnd.databricks.v1+cell": {
     "cellMetadata": {
      "byteLimit": 2048000,
      "rowLimit": 10000
     },
     "inputWidgets": {},
     "nuid": "fb0f4763-bf93-423a-bceb-276e588eb418",
     "showTitle": false,
     "title": ""
    }
   },
   "outputs": [],
   "source": [
    "# import gradio as gr\n",
    "\n",
    "# def question_answer(question, image):\n",
    "#     output = qa_chain(question)\n",
    "#     doc_pages = ','.join(set([str(doc.metadata['page']) for doc in output['source_documents']]))\n",
    "#     doc_name = ','.join(set([str(doc.metadata['source']) for doc in output['source_documents']]))\n",
    "#     doc_link = \"<a href='https://docs.databricks.com/en/machine-learning/mlops/mlops-workflow.html' target='_blank'>Click here to visit Example.com</a>\"\n",
    "#     doc_content = '.\\n'.join(set([str(doc.page_content) for doc in output['source_documents']]))\n",
    "    \n",
    "#     return output['result'], doc_pages, doc_name, doc_link, doc_content\n",
    "\n",
    "# gr.Interface(fn=question_answer, inputs=[\"text\", gr.Image(value='/Volumes/sarbani_catalog/sarbani_llm_rag/volume_databricks_documentation/rag-workflow.png')], outputs=[gr.Textbox(label='Chatbot Response'),gr.Textbox(label='Document Page#'),gr.Textbox(label='Document Location'),gr.Textbox(label=('doc_link') ) ,gr.Textbox(label='Document Context')]).launch(share=True)\n",
    "\n"
   ]
  },
  {
   "cell_type": "markdown",
   "metadata": {
    "application/vnd.databricks.v1+cell": {
     "cellMetadata": {},
     "inputWidgets": {},
     "nuid": "dacfbcd5-99fc-41fc-a5b2-f1b1a2774b26",
     "showTitle": false,
     "title": ""
    }
   },
   "source": [
    "### GRADIO - WIP Sarbani"
   ]
  },
  {
   "cell_type": "code",
   "execution_count": 0,
   "metadata": {
    "application/vnd.databricks.v1+cell": {
     "cellMetadata": {},
     "inputWidgets": {},
     "nuid": "49e9724a-b4f0-4374-bc9f-0d0172ff232f",
     "showTitle": false,
     "title": ""
    }
   },
   "outputs": [],
   "source": []
  },
  {
   "cell_type": "code",
   "execution_count": 0,
   "metadata": {
    "application/vnd.databricks.v1+cell": {
     "cellMetadata": {
      "byteLimit": 2048000,
      "rowLimit": 10000
     },
     "inputWidgets": {},
     "nuid": "45d521d4-5edb-4ffd-ac52-6ab1f8a76fb0",
     "showTitle": false,
     "title": ""
    }
   },
   "outputs": [],
   "source": []
  },
  {
   "cell_type": "code",
   "execution_count": 0,
   "metadata": {
    "application/vnd.databricks.v1+cell": {
     "cellMetadata": {
      "byteLimit": 2048000,
      "rowLimit": 10000
     },
     "inputWidgets": {},
     "nuid": "0240e025-ebfa-41d1-9fd4-4b801dcd9c0e",
     "showTitle": false,
     "title": ""
    }
   },
   "outputs": [],
   "source": []
  }
 ],
 "metadata": {
  "application/vnd.databricks.v1+notebook": {
   "dashboards": [],
   "language": "python",
   "notebookMetadata": {
    "mostRecentlyExecutedCommandWithImplicitDF": {
     "commandId": 1313287315883068,
     "dataframes": [
      "_sqldf"
     ]
    },
    "pythonIndentUnit": 2
   },
   "notebookName": "India-field-demo-pdf-processing",
   "widgets": {}
  }
 },
 "nbformat": 4,
 "nbformat_minor": 0
}
